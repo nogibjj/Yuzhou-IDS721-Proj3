{
 "cells": [
  {
   "cell_type": "markdown",
   "id": "5531a2f7-af4c-483b-bbf6-73663440066d",
   "metadata": {
    "tags": []
   },
   "source": [
    "## Setup"
   ]
  },
  {
   "cell_type": "markdown",
   "id": "95b2f803-7ddb-4c14-990c-3c188ef6aa74",
   "metadata": {},
   "source": [
    "### Install sagemaker correct versions"
   ]
  },
  {
   "cell_type": "code",
   "execution_count": 2,
   "id": "81b71c7f-0acf-4c75-8192-b5acbc1e380e",
   "metadata": {},
   "outputs": [],
   "source": [
    "!pip install sagemaker==2.140.1\n",
    "!pip install sagemaker-experiments\n",
    "from IPython.display import clear_output\n",
    "clear_output()"
   ]
  },
  {
   "cell_type": "markdown",
   "id": "043923b5-6c9f-48dc-8f37-3d44b110b5b5",
   "metadata": {},
   "source": [
    "### Setup Sagemaker session"
   ]
  },
  {
   "cell_type": "code",
   "execution_count": 3,
   "id": "78d4fab2-6446-4c59-b832-0b737b9bd3c7",
   "metadata": {
    "tags": []
   },
   "outputs": [
    {
     "name": "stdout",
     "output_type": "stream",
     "text": [
      "2.140.1\n",
      "Region = us-east-1\n"
     ]
    }
   ],
   "source": [
    "import boto3\n",
    "import sagemaker\n",
    "from sagemaker import get_execution_role\n",
    "print(sagemaker.__version__)\n",
    "import sys\n",
    "import IPython\n",
    "\n",
    "role = get_execution_role()\n",
    "sess = sagemaker.Session()\n",
    "region = boto3.session.Session().region_name\n",
    "print(\"Region = {}\".format(region))\n",
    "sm = boto3.Session().client('sagemaker')"
   ]
  },
  {
   "cell_type": "markdown",
   "id": "91bcdefa-e9cd-4a3f-b8b2-a6b7f4b5aa0b",
   "metadata": {},
   "source": [
    "### Import tool packages"
   ]
  },
  {
   "cell_type": "code",
   "execution_count": 34,
   "id": "36303aca-8a9c-4d34-aca3-0c2c38a8c97b",
   "metadata": {
    "tags": []
   },
   "outputs": [],
   "source": [
    "import matplotlib.pyplot as plt\n",
    "import numpy as np\n",
    "import pandas as pd\n",
    "import io\n",
    "import os\n",
    "import re\n",
    "\n",
    "from time import sleep, gmtime, strftime\n",
    "import json\n",
    "import time"
   ]
  },
  {
   "cell_type": "markdown",
   "id": "d5b9e6c0-3437-4e0a-8f49-df918ef8d6fc",
   "metadata": {},
   "source": [
    "### Import Sagemaker Experiments"
   ]
  },
  {
   "cell_type": "code",
   "execution_count": 5,
   "id": "3c8c31c7-adb9-48d4-94fb-8689e18ccfd8",
   "metadata": {
    "tags": []
   },
   "outputs": [],
   "source": [
    "from sagemaker.analytics import ExperimentAnalytics\n",
    "from smexperiments.experiment import Experiment\n",
    "from smexperiments.trial import Trial\n",
    "from smexperiments.trial_component import TrialComponent\n",
    "from smexperiments.tracker import Tracker"
   ]
  },
  {
   "cell_type": "markdown",
   "id": "42814d1c-ec41-44df-93fb-065735331e08",
   "metadata": {},
   "source": [
    "### Define the Amazon S3 buckets and folders for the project"
   ]
  },
  {
   "cell_type": "code",
   "execution_count": 6,
   "id": "f2d38aee-a0c1-4057-8e84-f53bf04ce858",
   "metadata": {
    "tags": []
   },
   "outputs": [],
   "source": [
    "rawbucket= sess.default_bucket() # Alternatively you can use our custom bucket here. \n",
    "\n",
    "prefix = 'sagemaker-modelmonitor' # use this prefix to store all files pertaining to this workshop.\n",
    "\n",
    "dataprefix = prefix + '/data'\n",
    "# traindataprefix = prefix + '/train_data'\n",
    "# testdataprefix = prefix + '/test_data'\n",
    "# testdatanolabelprefix = prefix + '/test_data_no_label'\n",
    "# trainheaderprefix = prefix + '/train_headers'"
   ]
  },
  {
   "cell_type": "markdown",
   "id": "e5aec6af-1494-49a8-8870-b17e8cbcfd53",
   "metadata": {},
   "source": [
    "### Load breast cancer wisconsin dataset"
   ]
  },
  {
   "cell_type": "code",
   "execution_count": 7,
   "id": "482c0961-1a20-4fb7-bccc-fe4fca33faaf",
   "metadata": {
    "tags": []
   },
   "outputs": [],
   "source": [
    "from sklearn.datasets import load_breast_cancer\n",
    "from sklearn.model_selection import train_test_split\n",
    "bc_data = load_breast_cancer()\n",
    "\n",
    "X_bc_pd = pd.DataFrame(bc_data.data, columns=bc_data.feature_names)\n",
    "Y_bc_pd = pd.DataFrame(bc_data.target, columns=['Label'])\n",
    "\n",
    "X_train, X_test, Y_train, Y_test = train_test_split(X_bc_pd, Y_bc_pd, test_size=0.2)\n",
    "X_train, X_val, Y_train, Y_val = train_test_split(X_train, Y_train, test_size=0.25)"
   ]
  },
  {
   "cell_type": "code",
   "execution_count": 8,
   "id": "f7a6a98c-90ca-4bec-9c60-1ebcc8432094",
   "metadata": {
    "tags": []
   },
   "outputs": [
    {
     "name": "stdout",
     "output_type": "stream",
     "text": [
      "s3://sagemaker-us-east-1-773627151292/sagemaker-modelmonitor/data/train_data.csv\n",
      "s3://sagemaker-us-east-1-773627151292/sagemaker-modelmonitor/data/valid_data.csv\n",
      "s3://sagemaker-us-east-1-773627151292/sagemaker-modelmonitor/data/test_data.csv\n"
     ]
    }
   ],
   "source": [
    "if not os.path.exists('data'):\n",
    "    !mkdir data\n",
    "else:\n",
    "    pass\n",
    "\n",
    "pd.concat([Y_train, X_train], axis=1).to_csv('data/train_data.csv', header=False, index=False)\n",
    "pd.concat([Y_val, X_val], axis=1).to_csv('data/valid_data.csv', header=False, index=False)\n",
    "pd.concat([Y_test, X_test], axis=1).to_csv('data/test_data.csv', header=False, index=False)\n",
    "\n",
    "# Upload the raw dataset\n",
    "train_data_location = sess.upload_data('data/train_data.csv', bucket=rawbucket, key_prefix=dataprefix)\n",
    "valid_data_location = sess.upload_data('data/valid_data.csv', bucket=rawbucket, key_prefix=dataprefix)\n",
    "test_data_location = sess.upload_data('data/test_data.csv', bucket=rawbucket, key_prefix=dataprefix)\n",
    "print(train_data_location)\n",
    "print(valid_data_location)\n",
    "print(test_data_location)"
   ]
  },
  {
   "cell_type": "markdown",
   "id": "c8bf3ec5-8f0d-44d4-beeb-2216eccbb6a4",
   "metadata": {},
   "source": [
    "## Fit the model"
   ]
  },
  {
   "cell_type": "code",
   "execution_count": 9,
   "id": "1b7baf1f-0757-47de-9f5b-55da6fcb65fe",
   "metadata": {
    "tags": []
   },
   "outputs": [
    {
     "name": "stderr",
     "output_type": "stream",
     "text": [
      "INFO:sagemaker.image_uris:Ignoring unnecessary instance type: None.\n"
     ]
    }
   ],
   "source": [
    "xgboost_container = sagemaker.image_uris.retrieve(\"xgboost\", region, \"1.3-1\")\n",
    "\n",
    "s3_input_train = sagemaker.inputs.TrainingInput(s3_data=train_data_location, content_type='csv')\n",
    "s3_input_valid = sagemaker.inputs.TrainingInput(s3_data=valid_data_location, content_type='csv')\n",
    "s3_input_test = sagemaker.inputs.TrainingInput(s3_data=test_data_location, content_type='csv')"
   ]
  },
  {
   "cell_type": "code",
   "execution_count": 11,
   "id": "ab854461-13ec-467b-809c-c1ee25b2290e",
   "metadata": {},
   "outputs": [
    {
     "name": "stderr",
     "output_type": "stream",
     "text": [
      "INFO:sagemaker:Creating training-job with name: sagemaker-xgboost-2023-03-22-22-17-23-518\n"
     ]
    },
    {
     "name": "stdout",
     "output_type": "stream",
     "text": [
      "2023-03-22 22:17:24 Starting - Starting the training job...\n",
      "2023-03-22 22:18:00 Starting - Preparing the instances for training.........\n",
      "2023-03-22 22:19:21 Downloading - Downloading input data...\n",
      "2023-03-22 22:19:57 Training - Downloading the training image...\n",
      "2023-03-22 22:20:23 Training - Training image download completed. Training in progress...\u001b[34m[2023-03-22 22:20:40.055 ip-10-0-153-177.ec2.internal:7 INFO utils.py:28] RULE_JOB_STOP_SIGNAL_FILENAME: None\u001b[0m\n",
      "\u001b[34m[2023-03-22 22:20:40.088 ip-10-0-153-177.ec2.internal:7 INFO profiler_config_parser.py:111] User has disabled profiler.\u001b[0m\n",
      "\u001b[34m[2023-03-22:22:20:40:INFO] Imported framework sagemaker_xgboost_container.training\u001b[0m\n",
      "\u001b[34m[2023-03-22:22:20:40:INFO] Failed to parse hyperparameter objective value binary:logistic to Json.\u001b[0m\n",
      "\u001b[34mReturning the value itself\u001b[0m\n",
      "\u001b[34m[2023-03-22:22:20:40:INFO] No GPUs detected (normal if no gpus installed)\u001b[0m\n",
      "\u001b[34m[2023-03-22:22:20:40:INFO] Running XGBoost Sagemaker in algorithm mode\u001b[0m\n",
      "\u001b[34m[2023-03-22:22:20:40:INFO] Determined delimiter of CSV input is ','\u001b[0m\n",
      "\u001b[34m[2023-03-22:22:20:40:INFO] Determined delimiter of CSV input is ','\u001b[0m\n",
      "\u001b[34m[2023-03-22:22:20:40:INFO] files path: /opt/ml/input/data/train\u001b[0m\n",
      "\u001b[34m[2023-03-22:22:20:40:INFO] Determined delimiter of CSV input is ','\u001b[0m\n",
      "\u001b[34m[2023-03-22:22:20:40:INFO] files path: /opt/ml/input/data/validation\u001b[0m\n",
      "\u001b[34m[2023-03-22:22:20:40:INFO] Determined delimiter of CSV input is ','\u001b[0m\n",
      "\u001b[34m[2023-03-22:22:20:40:INFO] Single node training.\u001b[0m\n",
      "\u001b[34m[2023-03-22:22:20:40:INFO] Train matrix has 341 rows and 30 columns\u001b[0m\n",
      "\u001b[34m[2023-03-22:22:20:40:INFO] Validation matrix has 114 rows\u001b[0m\n",
      "\u001b[34m[2023-03-22 22:20:40.164 ip-10-0-153-177.ec2.internal:7 INFO json_config.py:92] Creating hook from json_config at /opt/ml/input/config/debughookconfig.json.\u001b[0m\n",
      "\u001b[34m[2023-03-22 22:20:40.165 ip-10-0-153-177.ec2.internal:7 INFO hook.py:207] tensorboard_dir has not been set for the hook. SMDebug will not be exporting tensorboard summaries.\u001b[0m\n",
      "\u001b[34m[2023-03-22 22:20:40.166 ip-10-0-153-177.ec2.internal:7 INFO hook.py:259] Saving to /opt/ml/output/tensors\u001b[0m\n",
      "\u001b[34m[2023-03-22 22:20:40.166 ip-10-0-153-177.ec2.internal:7 INFO state_store.py:77] The checkpoint config file /opt/ml/input/config/checkpointconfig.json does not exist.\u001b[0m\n",
      "\u001b[34m[2023-03-22:22:20:40:INFO] Debug hook created from config\u001b[0m\n",
      "\u001b[34m[2023-03-22 22:20:40.184 ip-10-0-153-177.ec2.internal:7 INFO hook.py:428] Monitoring the collections: metrics\u001b[0m\n",
      "\u001b[34m[2023-03-22 22:20:40.188 ip-10-0-153-177.ec2.internal:7 INFO hook.py:491] Hook is writing from the hook with pid: 7\u001b[0m\n",
      "\u001b[34m[0]#011train-logloss:0.55193#011validation-logloss:0.55724\u001b[0m\n",
      "\u001b[34m[1]#011train-logloss:0.45073#011validation-logloss:0.45984\u001b[0m\n",
      "\u001b[34m[2]#011train-logloss:0.37982#011validation-logloss:0.39479\u001b[0m\n",
      "\u001b[34m[3]#011train-logloss:0.32432#011validation-logloss:0.34549\u001b[0m\n",
      "\u001b[34m[4]#011train-logloss:0.28084#011validation-logloss:0.30868\u001b[0m\n",
      "\u001b[34m[5]#011train-logloss:0.24634#011validation-logloss:0.27568\u001b[0m\n",
      "\u001b[34m[6]#011train-logloss:0.22401#011validation-logloss:0.25729\u001b[0m\n",
      "\u001b[34m[7]#011train-logloss:0.20224#011validation-logloss:0.23683\u001b[0m\n",
      "\u001b[34m[8]#011train-logloss:0.18670#011validation-logloss:0.21788\u001b[0m\n",
      "\u001b[34m[9]#011train-logloss:0.17212#011validation-logloss:0.20278\u001b[0m\n",
      "\u001b[34m[10]#011train-logloss:0.15728#011validation-logloss:0.18864\u001b[0m\n",
      "\u001b[34m[11]#011train-logloss:0.14517#011validation-logloss:0.17705\u001b[0m\n",
      "\u001b[34m[12]#011train-logloss:0.13390#011validation-logloss:0.16679\u001b[0m\n",
      "\u001b[34m[13]#011train-logloss:0.12747#011validation-logloss:0.15922\u001b[0m\n",
      "\u001b[34m[14]#011train-logloss:0.11671#011validation-logloss:0.15137\u001b[0m\n",
      "\u001b[34m[15]#011train-logloss:0.11235#011validation-logloss:0.14788\u001b[0m\n",
      "\u001b[34m[16]#011train-logloss:0.10786#011validation-logloss:0.14450\u001b[0m\n",
      "\u001b[34m[17]#011train-logloss:0.10435#011validation-logloss:0.14140\u001b[0m\n",
      "\u001b[34m[18]#011train-logloss:0.10198#011validation-logloss:0.14091\u001b[0m\n",
      "\u001b[34m[19]#011train-logloss:0.09884#011validation-logloss:0.13885\u001b[0m\n",
      "\u001b[34m[20]#011train-logloss:0.09603#011validation-logloss:0.13758\u001b[0m\n",
      "\u001b[34m[21]#011train-logloss:0.09603#011validation-logloss:0.13743\u001b[0m\n",
      "\u001b[34m[22]#011train-logloss:0.09602#011validation-logloss:0.13725\u001b[0m\n",
      "\u001b[34m[23]#011train-logloss:0.09361#011validation-logloss:0.13600\u001b[0m\n",
      "\u001b[34m[24]#011train-logloss:0.09360#011validation-logloss:0.13628\u001b[0m\n",
      "\u001b[34m[25]#011train-logloss:0.09121#011validation-logloss:0.13475\u001b[0m\n",
      "\u001b[34m[26]#011train-logloss:0.09121#011validation-logloss:0.13457\u001b[0m\n",
      "\u001b[34m[27]#011train-logloss:0.08920#011validation-logloss:0.13263\u001b[0m\n",
      "\u001b[34m[28]#011train-logloss:0.08920#011validation-logloss:0.13262\u001b[0m\n",
      "\u001b[34m[29]#011train-logloss:0.08916#011validation-logloss:0.13291\u001b[0m\n",
      "\u001b[34m[30]#011train-logloss:0.08917#011validation-logloss:0.13280\u001b[0m\n",
      "\u001b[34m[31]#011train-logloss:0.08922#011validation-logloss:0.13257\u001b[0m\n",
      "\u001b[34m[32]#011train-logloss:0.08918#011validation-logloss:0.13274\u001b[0m\n",
      "\u001b[34m[33]#011train-logloss:0.08917#011validation-logloss:0.13283\u001b[0m\n",
      "\u001b[34m[34]#011train-logloss:0.08921#011validation-logloss:0.13258\u001b[0m\n",
      "\u001b[34m[35]#011train-logloss:0.08932#011validation-logloss:0.13232\u001b[0m\n",
      "\u001b[34m[36]#011train-logloss:0.08929#011validation-logloss:0.13237\u001b[0m\n",
      "\u001b[34m[37]#011train-logloss:0.08921#011validation-logloss:0.13258\u001b[0m\n",
      "\u001b[34m[38]#011train-logloss:0.08921#011validation-logloss:0.13261\u001b[0m\n",
      "\u001b[34m[39]#011train-logloss:0.08921#011validation-logloss:0.13260\u001b[0m\n",
      "\u001b[34m[40]#011train-logloss:0.08916#011validation-logloss:0.13292\u001b[0m\n",
      "\u001b[34m[41]#011train-logloss:0.08916#011validation-logloss:0.13317\u001b[0m\n",
      "\u001b[34m[42]#011train-logloss:0.08918#011validation-logloss:0.13342\u001b[0m\n",
      "\u001b[34m[43]#011train-logloss:0.08916#011validation-logloss:0.13315\u001b[0m\n",
      "\u001b[34m[44]#011train-logloss:0.08916#011validation-logloss:0.13304\u001b[0m\n",
      "\u001b[34m[45]#011train-logloss:0.08916#011validation-logloss:0.13318\u001b[0m\n",
      "\u001b[34m[46]#011train-logloss:0.08917#011validation-logloss:0.13324\u001b[0m\n",
      "\u001b[34m[47]#011train-logloss:0.08916#011validation-logloss:0.13314\u001b[0m\n",
      "\u001b[34m[48]#011train-logloss:0.08917#011validation-logloss:0.13288\u001b[0m\n",
      "\u001b[34m[49]#011train-logloss:0.08918#011validation-logloss:0.13278\u001b[0m\n",
      "\u001b[34m[50]#011train-logloss:0.08917#011validation-logloss:0.13325\u001b[0m\n",
      "\u001b[34m[51]#011train-logloss:0.08916#011validation-logloss:0.13294\u001b[0m\n",
      "\u001b[34m[52]#011train-logloss:0.08916#011validation-logloss:0.13311\u001b[0m\n",
      "\u001b[34m[53]#011train-logloss:0.08917#011validation-logloss:0.13289\u001b[0m\n",
      "\u001b[34m[54]#011train-logloss:0.08916#011validation-logloss:0.13299\u001b[0m\n",
      "\u001b[34m[55]#011train-logloss:0.08917#011validation-logloss:0.13291\u001b[0m\n",
      "\u001b[34m[56]#011train-logloss:0.08916#011validation-logloss:0.13295\u001b[0m\n",
      "\u001b[34m[57]#011train-logloss:0.08916#011validation-logloss:0.13314\u001b[0m\n",
      "\u001b[34m[58]#011train-logloss:0.08918#011validation-logloss:0.13337\u001b[0m\n",
      "\u001b[34m[59]#011train-logloss:0.08920#011validation-logloss:0.13358\u001b[0m\n",
      "\u001b[34m[60]#011train-logloss:0.08916#011validation-logloss:0.13308\u001b[0m\n",
      "\u001b[34m[61]#011train-logloss:0.08916#011validation-logloss:0.13292\u001b[0m\n",
      "\u001b[34m[62]#011train-logloss:0.08916#011validation-logloss:0.13305\u001b[0m\n",
      "\u001b[34m[63]#011train-logloss:0.08916#011validation-logloss:0.13306\u001b[0m\n",
      "\u001b[34m[64]#011train-logloss:0.08917#011validation-logloss:0.13321\u001b[0m\n",
      "\u001b[34m[65]#011train-logloss:0.08916#011validation-logloss:0.13298\u001b[0m\n",
      "\u001b[34m[66]#011train-logloss:0.08916#011validation-logloss:0.13310\u001b[0m\n",
      "\u001b[34m[67]#011train-logloss:0.08917#011validation-logloss:0.13325\u001b[0m\n",
      "\u001b[34m[68]#011train-logloss:0.08917#011validation-logloss:0.13321\u001b[0m\n",
      "\u001b[34m[69]#011train-logloss:0.08917#011validation-logloss:0.13289\u001b[0m\n",
      "\u001b[34m[70]#011train-logloss:0.08722#011validation-logloss:0.13300\u001b[0m\n",
      "\u001b[34m[71]#011train-logloss:0.08722#011validation-logloss:0.13299\u001b[0m\n",
      "\u001b[34m[72]#011train-logloss:0.08722#011validation-logloss:0.13304\u001b[0m\n",
      "\u001b[34m[73]#011train-logloss:0.08720#011validation-logloss:0.13328\u001b[0m\n",
      "\u001b[34m[74]#011train-logloss:0.08720#011validation-logloss:0.13325\u001b[0m\n",
      "\u001b[34m[75]#011train-logloss:0.08722#011validation-logloss:0.13299\u001b[0m\n",
      "\u001b[34m[76]#011train-logloss:0.08726#011validation-logloss:0.13283\u001b[0m\n",
      "\u001b[34m[77]#011train-logloss:0.08721#011validation-logloss:0.13307\u001b[0m\n",
      "\u001b[34m[78]#011train-logloss:0.08722#011validation-logloss:0.13299\u001b[0m\n",
      "\u001b[34m[79]#011train-logloss:0.08722#011validation-logloss:0.13304\u001b[0m\n",
      "\u001b[34m[80]#011train-logloss:0.08721#011validation-logloss:0.13312\u001b[0m\n",
      "\u001b[34m[81]#011train-logloss:0.08721#011validation-logloss:0.13310\u001b[0m\n",
      "\u001b[34m[82]#011train-logloss:0.08720#011validation-logloss:0.13318\u001b[0m\n",
      "\u001b[34m[83]#011train-logloss:0.08721#011validation-logloss:0.13308\u001b[0m\n",
      "\u001b[34m[84]#011train-logloss:0.08720#011validation-logloss:0.13317\u001b[0m\n",
      "\u001b[34m[85]#011train-logloss:0.08725#011validation-logloss:0.13285\u001b[0m\n",
      "\u001b[34m[86]#011train-logloss:0.08721#011validation-logloss:0.13313\u001b[0m\n",
      "\u001b[34m[87]#011train-logloss:0.08720#011validation-logloss:0.13339\u001b[0m\n",
      "\u001b[34m[88]#011train-logloss:0.08720#011validation-logloss:0.13322\u001b[0m\n",
      "\u001b[34m[89]#011train-logloss:0.08720#011validation-logloss:0.13326\u001b[0m\n",
      "\u001b[34m[90]#011train-logloss:0.08720#011validation-logloss:0.13347\u001b[0m\n",
      "\u001b[34m[91]#011train-logloss:0.08720#011validation-logloss:0.13320\u001b[0m\n",
      "\u001b[34m[92]#011train-logloss:0.08720#011validation-logloss:0.13351\u001b[0m\n",
      "\u001b[34m[93]#011train-logloss:0.08721#011validation-logloss:0.13366\u001b[0m\n",
      "\u001b[34m[94]#011train-logloss:0.08723#011validation-logloss:0.13383\u001b[0m\n",
      "\u001b[34m[95]#011train-logloss:0.08725#011validation-logloss:0.13398\u001b[0m\n",
      "\u001b[34m[96]#011train-logloss:0.08722#011validation-logloss:0.13372\u001b[0m\n",
      "\u001b[34m[97]#011train-logloss:0.08721#011validation-logloss:0.13315\u001b[0m\n",
      "\u001b[34m[98]#011train-logloss:0.08720#011validation-logloss:0.13339\u001b[0m\n",
      "\u001b[34m[99]#011train-logloss:0.08721#011validation-logloss:0.13362\u001b[0m\n",
      "\n",
      "2023-03-22 22:20:59 Uploading - Uploading generated training model\n",
      "2023-03-22 22:20:59 Completed - Training job completed\n",
      "Training seconds: 102\n",
      "Billable seconds: 102\n"
     ]
    }
   ],
   "source": [
    "xgb = sagemaker.estimator.Estimator(image_uri=xgboost_container,\n",
    "                                    role=role, \n",
    "                                    instance_count=1, \n",
    "                                    instance_type='ml.m4.xlarge',\n",
    "                                    output_path='s3://{}/{}/models'.format(rawbucket, prefix),\n",
    "                                    sagemaker_session=sess) # set to true for distributed training\n",
    "\n",
    "xgb.set_hyperparameters(max_depth=5,\n",
    "                        eta=0.2,\n",
    "                        gamma=4,\n",
    "                        min_child_weight=6,\n",
    "                        subsample=0.8,\n",
    "                        verbosity=0,\n",
    "                        objective='binary:logistic',\n",
    "                        num_round=100)\n",
    "\n",
    "xgb.fit(inputs = {'train':s3_input_train, 'validation':s3_input_valid})\n",
    "time.sleep(2)"
   ]
  },
  {
   "cell_type": "markdown",
   "id": "7103d556-b2b2-4579-b6f5-e1f7c6546e19",
   "metadata": {},
   "source": [
    "## Test the model"
   ]
  },
  {
   "cell_type": "code",
   "execution_count": 63,
   "id": "126fb973-5b3b-4045-8e07-152a9d12960b",
   "metadata": {},
   "outputs": [
    {
     "name": "stdout",
     "output_type": "stream",
     "text": [
      "Model created: arn:aws:sagemaker:us-east-1:773627151292:model/sagemaker-xgboost-2023-03-22-22-17-23-518\n"
     ]
    }
   ],
   "source": [
    "from sagemaker.model_monitor import DataCaptureConfig\n",
    "from sagemaker.predictor import csv_serializer\n",
    "\n",
    "sm_client = boto3.client('sagemaker')\n",
    "\n",
    "latest_training_job = sm_client.list_training_jobs(MaxResults=1,\n",
    "                                                SortBy='CreationTime',\n",
    "                                                SortOrder='Descending')\n",
    "\n",
    "training_job_name=TrainingJobName=latest_training_job['TrainingJobSummaries'][0]['TrainingJobName']\n",
    "\n",
    "training_job_description = sm_client.describe_training_job(TrainingJobName=training_job_name)\n",
    "\n",
    "model_data = training_job_description['ModelArtifacts']['S3ModelArtifacts']\n",
    "container_uri = training_job_description['AlgorithmSpecification']['TrainingImage']\n",
    "\n",
    "# create a model.\n",
    "def create_model(role, model_name, container_uri, model_data):\n",
    "    return sm_client.create_model(\n",
    "        ModelName=model_name,\n",
    "        PrimaryContainer={\n",
    "        'Image': container_uri,\n",
    "        'ModelDataUrl': model_data,\n",
    "        },\n",
    "        ExecutionRoleArn=role)\n",
    "    \n",
    "\n",
    "try:\n",
    "    model = create_model(role, training_job_name, container_uri, model_data)\n",
    "except Exception as e:\n",
    "        sm_client.delete_model(ModelName=training_job_name)\n",
    "        model = create_model(role, training_job_name, container_uri, model_data)\n",
    "        \n",
    "\n",
    "print('Model created: '+model['ModelArn'])"
   ]
  },
  {
   "cell_type": "code",
   "execution_count": 64,
   "id": "8fd5623f-6fac-4cad-b240-b3b2ce064dbc",
   "metadata": {
    "tags": []
   },
   "outputs": [],
   "source": [
    "# Endpoint Config name\n",
    "endpoint_config_name = f\"{training_job_name}-endpoint-config\"\n",
    "\n",
    "# Endpoint config parameters\n",
    "production_variant_dict = {\n",
    "                           \"VariantName\": \"Alltraffic\",\n",
    "                           \"ModelName\": training_job_name,\n",
    "                           \"InitialInstanceCount\": 1,\n",
    "                           \"InstanceType\": \"ml.m5.xlarge\",\n",
    "                           \"InitialVariantWeight\": 1\n",
    "                          }\n",
    "\n",
    "# Define bucket path\n",
    "write_bucket = sess.default_bucket()\n",
    "write_prefix = \"breast-cancer-demo\"\n",
    "data_capture_key = f\"{write_prefix}/data-capture\"\n",
    "data_capture_uri = f\"s3://{write_bucket}/{data_capture_key}\"\n",
    "\n",
    "# Data capture config parameters\n",
    "data_capture_config_dict = {\n",
    "                            \"EnableCapture\": True,\n",
    "                            \"InitialSamplingPercentage\": 100,\n",
    "                            \"DestinationS3Uri\": data_capture_uri,\n",
    "                            \"CaptureOptions\": [{\"CaptureMode\" : \"Input\"}, {\"CaptureMode\" : \"Output\"}]\n",
    "                           }\n",
    "\n",
    "\n",
    "# Create endpoint config if one with the same name does not exist\n",
    "endpoint_config_matches = sm_client.list_endpoint_configs(NameContains=endpoint_config_name)[\"EndpointConfigs\"]\n",
    "if not endpoint_config_matches:\n",
    "    endpoint_config_response = sm_client.create_endpoint_config(\n",
    "                                                                EndpointConfigName=endpoint_config_name,\n",
    "                                                                ProductionVariants=[production_variant_dict],\n",
    "                                                                DataCaptureConfig=data_capture_config_dict\n",
    "                                                               )\n",
    "else:\n",
    "    print(f\"Endpoint config with name {endpoint_config_name} already exists! Change endpoint config name to create new\")"
   ]
  },
  {
   "cell_type": "code",
   "execution_count": 65,
   "id": "58672706-ba37-4858-a295-ead2000995db",
   "metadata": {
    "tags": []
   },
   "outputs": [
    {
     "name": "stdout",
     "output_type": "stream",
     "text": [
      "Endpoint Status: Creating...\n",
      "Endpoint Status: Creating...\n",
      "Endpoint Status: Creating...\n",
      "Endpoint Status: InService\n"
     ]
    }
   ],
   "source": [
    "endpoint_name = f\"{training_job_name}-endpoint\"\n",
    "\n",
    "endpoint_matches = sm_client.list_endpoints(NameContains=endpoint_name)[\"Endpoints\"]\n",
    "if not endpoint_matches:\n",
    "    endpoint_response = sm_client.create_endpoint(\n",
    "                                                  EndpointName=endpoint_name,\n",
    "                                                  EndpointConfigName=endpoint_config_name\n",
    "                                                 )\n",
    "else:\n",
    "    print(f\"Endpoint with name {endpoint_name} already exists! Change endpoint name to create new\")\n",
    "\n",
    "resp = sm_client.describe_endpoint(EndpointName=endpoint_name)\n",
    "status = resp[\"EndpointStatus\"]\n",
    "while status == \"Creating\":\n",
    "    print(f\"Endpoint Status: {status}...\")\n",
    "    time.sleep(60)\n",
    "    resp = sm_client.describe_endpoint(EndpointName=endpoint_name)\n",
    "    status = resp[\"EndpointStatus\"]\n",
    "print(f\"Endpoint Status: {status}\")"
   ]
  },
  {
   "cell_type": "code",
   "execution_count": 66,
   "id": "9054c7a4-831b-43ff-af18-5f87a6ce554a",
   "metadata": {
    "tags": []
   },
   "outputs": [
    {
     "data": {
      "text/html": [
       "<div>\n",
       "<style scoped>\n",
       "    .dataframe tbody tr th:only-of-type {\n",
       "        vertical-align: middle;\n",
       "    }\n",
       "\n",
       "    .dataframe tbody tr th {\n",
       "        vertical-align: top;\n",
       "    }\n",
       "\n",
       "    .dataframe thead th {\n",
       "        text-align: right;\n",
       "    }\n",
       "</style>\n",
       "<table border=\"1\" class=\"dataframe\">\n",
       "  <thead>\n",
       "    <tr style=\"text-align: right;\">\n",
       "      <th></th>\n",
       "      <th>0</th>\n",
       "      <th>1</th>\n",
       "      <th>2</th>\n",
       "      <th>3</th>\n",
       "      <th>4</th>\n",
       "      <th>5</th>\n",
       "      <th>6</th>\n",
       "      <th>7</th>\n",
       "      <th>8</th>\n",
       "      <th>9</th>\n",
       "      <th>...</th>\n",
       "      <th>21</th>\n",
       "      <th>22</th>\n",
       "      <th>23</th>\n",
       "      <th>24</th>\n",
       "      <th>25</th>\n",
       "      <th>26</th>\n",
       "      <th>27</th>\n",
       "      <th>28</th>\n",
       "      <th>29</th>\n",
       "      <th>30</th>\n",
       "    </tr>\n",
       "  </thead>\n",
       "  <tbody>\n",
       "    <tr>\n",
       "      <th>0</th>\n",
       "      <td>0</td>\n",
       "      <td>15.34</td>\n",
       "      <td>14.26</td>\n",
       "      <td>102.50</td>\n",
       "      <td>704.4</td>\n",
       "      <td>0.10730</td>\n",
       "      <td>0.21350</td>\n",
       "      <td>0.20770</td>\n",
       "      <td>0.09756</td>\n",
       "      <td>0.2521</td>\n",
       "      <td>...</td>\n",
       "      <td>18.07</td>\n",
       "      <td>19.08</td>\n",
       "      <td>125.10</td>\n",
       "      <td>980.9</td>\n",
       "      <td>0.13900</td>\n",
       "      <td>0.59540</td>\n",
       "      <td>0.6305</td>\n",
       "      <td>0.23930</td>\n",
       "      <td>0.4667</td>\n",
       "      <td>0.09946</td>\n",
       "    </tr>\n",
       "    <tr>\n",
       "      <th>1</th>\n",
       "      <td>0</td>\n",
       "      <td>20.47</td>\n",
       "      <td>20.67</td>\n",
       "      <td>134.70</td>\n",
       "      <td>1299.0</td>\n",
       "      <td>0.09156</td>\n",
       "      <td>0.13130</td>\n",
       "      <td>0.15230</td>\n",
       "      <td>0.10150</td>\n",
       "      <td>0.2166</td>\n",
       "      <td>...</td>\n",
       "      <td>23.23</td>\n",
       "      <td>27.15</td>\n",
       "      <td>152.00</td>\n",
       "      <td>1645.0</td>\n",
       "      <td>0.10970</td>\n",
       "      <td>0.25340</td>\n",
       "      <td>0.3092</td>\n",
       "      <td>0.16130</td>\n",
       "      <td>0.3220</td>\n",
       "      <td>0.06386</td>\n",
       "    </tr>\n",
       "    <tr>\n",
       "      <th>2</th>\n",
       "      <td>1</td>\n",
       "      <td>12.34</td>\n",
       "      <td>12.27</td>\n",
       "      <td>78.94</td>\n",
       "      <td>468.5</td>\n",
       "      <td>0.09003</td>\n",
       "      <td>0.06307</td>\n",
       "      <td>0.02958</td>\n",
       "      <td>0.02647</td>\n",
       "      <td>0.1689</td>\n",
       "      <td>...</td>\n",
       "      <td>13.61</td>\n",
       "      <td>19.27</td>\n",
       "      <td>87.22</td>\n",
       "      <td>564.9</td>\n",
       "      <td>0.12920</td>\n",
       "      <td>0.20740</td>\n",
       "      <td>0.1791</td>\n",
       "      <td>0.10700</td>\n",
       "      <td>0.3110</td>\n",
       "      <td>0.07592</td>\n",
       "    </tr>\n",
       "    <tr>\n",
       "      <th>3</th>\n",
       "      <td>1</td>\n",
       "      <td>17.85</td>\n",
       "      <td>13.23</td>\n",
       "      <td>114.60</td>\n",
       "      <td>992.1</td>\n",
       "      <td>0.07838</td>\n",
       "      <td>0.06217</td>\n",
       "      <td>0.04445</td>\n",
       "      <td>0.04178</td>\n",
       "      <td>0.1220</td>\n",
       "      <td>...</td>\n",
       "      <td>19.82</td>\n",
       "      <td>18.42</td>\n",
       "      <td>127.10</td>\n",
       "      <td>1210.0</td>\n",
       "      <td>0.09862</td>\n",
       "      <td>0.09976</td>\n",
       "      <td>0.1048</td>\n",
       "      <td>0.08341</td>\n",
       "      <td>0.1783</td>\n",
       "      <td>0.05871</td>\n",
       "    </tr>\n",
       "    <tr>\n",
       "      <th>4</th>\n",
       "      <td>1</td>\n",
       "      <td>11.68</td>\n",
       "      <td>16.17</td>\n",
       "      <td>75.49</td>\n",
       "      <td>420.5</td>\n",
       "      <td>0.11280</td>\n",
       "      <td>0.09263</td>\n",
       "      <td>0.04279</td>\n",
       "      <td>0.03132</td>\n",
       "      <td>0.1853</td>\n",
       "      <td>...</td>\n",
       "      <td>13.32</td>\n",
       "      <td>21.59</td>\n",
       "      <td>86.57</td>\n",
       "      <td>549.8</td>\n",
       "      <td>0.15260</td>\n",
       "      <td>0.14770</td>\n",
       "      <td>0.1490</td>\n",
       "      <td>0.09815</td>\n",
       "      <td>0.2804</td>\n",
       "      <td>0.08024</td>\n",
       "    </tr>\n",
       "  </tbody>\n",
       "</table>\n",
       "<p>5 rows × 31 columns</p>\n",
       "</div>"
      ],
      "text/plain": [
       "   0      1      2       3       4        5        6        7        8  \\\n",
       "0  0  15.34  14.26  102.50   704.4  0.10730  0.21350  0.20770  0.09756   \n",
       "1  0  20.47  20.67  134.70  1299.0  0.09156  0.13130  0.15230  0.10150   \n",
       "2  1  12.34  12.27   78.94   468.5  0.09003  0.06307  0.02958  0.02647   \n",
       "3  1  17.85  13.23  114.60   992.1  0.07838  0.06217  0.04445  0.04178   \n",
       "4  1  11.68  16.17   75.49   420.5  0.11280  0.09263  0.04279  0.03132   \n",
       "\n",
       "        9  ...     21     22      23      24       25       26      27  \\\n",
       "0  0.2521  ...  18.07  19.08  125.10   980.9  0.13900  0.59540  0.6305   \n",
       "1  0.2166  ...  23.23  27.15  152.00  1645.0  0.10970  0.25340  0.3092   \n",
       "2  0.1689  ...  13.61  19.27   87.22   564.9  0.12920  0.20740  0.1791   \n",
       "3  0.1220  ...  19.82  18.42  127.10  1210.0  0.09862  0.09976  0.1048   \n",
       "4  0.1853  ...  13.32  21.59   86.57   549.8  0.15260  0.14770  0.1490   \n",
       "\n",
       "        28      29       30  \n",
       "0  0.23930  0.4667  0.09946  \n",
       "1  0.16130  0.3220  0.06386  \n",
       "2  0.10700  0.3110  0.07592  \n",
       "3  0.08341  0.1783  0.05871  \n",
       "4  0.09815  0.2804  0.08024  \n",
       "\n",
       "[5 rows x 31 columns]"
      ]
     },
     "execution_count": 66,
     "metadata": {},
     "output_type": "execute_result"
    }
   ],
   "source": [
    "sm_runtime_client = boto3.client(\"sagemaker-runtime\")\n",
    "\n",
    "# Fetch test data to run predictions with the endpoint\n",
    "test_df = pd.read_csv(test_data_location, names = [str(x) for x in range(31)])\n",
    "test_df.head()"
   ]
  },
  {
   "cell_type": "code",
   "execution_count": 67,
   "id": "96e3d4e6-c12e-46cb-a232-faf3ee9249b2",
   "metadata": {
    "tags": []
   },
   "outputs": [
    {
     "data": {
      "text/plain": [
       "''"
      ]
     },
     "execution_count": 67,
     "metadata": {},
     "output_type": "execute_result"
    }
   ],
   "source": [
    "\n",
    "# For content type text/csv, payload should be a string with commas separating the values for each feature\n",
    "# This is the inference request serialization step\n",
    "# CSV serialization\n",
    "csv_file = io.StringIO()\n",
    "test_sample = test_df.drop([\"0\"], axis=1)\n",
    "test_sample.to_csv(csv_file, sep=\",\", header=False, index=False)\n",
    "payload = csv_file.getvalue()\n",
    "response = sm_runtime_client.invoke_endpoint(\n",
    "                                             EndpointName=endpoint_name,\n",
    "                                             Body=payload,\n",
    "                                             ContentType=\"text/csv\",\n",
    "                                             Accept=\"text/csv\"\n",
    "                                            )\n",
    "\n",
    "# This is the inference response deserialization step\n",
    "# This is a bytes object\n",
    "result = response[\"Body\"].read()\n",
    "# Decoding bytes to a string\n",
    "result = result.decode(\"utf-8\")\n",
    "# Converting to list of predictions\n",
    "result = re.split(\",|\\n\",result)\n",
    "result.pop()"
   ]
  },
  {
   "cell_type": "code",
   "execution_count": 68,
   "id": "e84e2eb0-ae55-4a10-9656-53045749fa1e",
   "metadata": {
    "tags": []
   },
   "outputs": [],
   "source": [
    "result = [float(x) for x in result]"
   ]
  },
  {
   "cell_type": "code",
   "execution_count": 59,
   "id": "8a530f49-b6e4-42d2-a0f2-4c984310bee6",
   "metadata": {
    "tags": []
   },
   "outputs": [
    {
     "data": {
      "text/html": [
       "<div>\n",
       "<style scoped>\n",
       "    .dataframe tbody tr th:only-of-type {\n",
       "        vertical-align: middle;\n",
       "    }\n",
       "\n",
       "    .dataframe tbody tr th {\n",
       "        vertical-align: top;\n",
       "    }\n",
       "\n",
       "    .dataframe thead th {\n",
       "        text-align: right;\n",
       "    }\n",
       "</style>\n",
       "<table border=\"1\" class=\"dataframe\">\n",
       "  <thead>\n",
       "    <tr style=\"text-align: right;\">\n",
       "      <th></th>\n",
       "      <th>0</th>\n",
       "      <th>Predicted</th>\n",
       "      <th>Label</th>\n",
       "    </tr>\n",
       "  </thead>\n",
       "  <tbody>\n",
       "    <tr>\n",
       "      <th>0</th>\n",
       "      <td>0.037244</td>\n",
       "      <td>0.0</td>\n",
       "      <td>0</td>\n",
       "    </tr>\n",
       "    <tr>\n",
       "      <th>1</th>\n",
       "      <td>0.014608</td>\n",
       "      <td>0.0</td>\n",
       "      <td>0</td>\n",
       "    </tr>\n",
       "    <tr>\n",
       "      <th>2</th>\n",
       "      <td>0.987058</td>\n",
       "      <td>1.0</td>\n",
       "      <td>1</td>\n",
       "    </tr>\n",
       "    <tr>\n",
       "      <th>3</th>\n",
       "      <td>0.436265</td>\n",
       "      <td>0.0</td>\n",
       "      <td>1</td>\n",
       "    </tr>\n",
       "    <tr>\n",
       "      <th>4</th>\n",
       "      <td>0.987199</td>\n",
       "      <td>1.0</td>\n",
       "      <td>1</td>\n",
       "    </tr>\n",
       "    <tr>\n",
       "      <th>...</th>\n",
       "      <td>...</td>\n",
       "      <td>...</td>\n",
       "      <td>...</td>\n",
       "    </tr>\n",
       "    <tr>\n",
       "      <th>109</th>\n",
       "      <td>0.801476</td>\n",
       "      <td>1.0</td>\n",
       "      <td>1</td>\n",
       "    </tr>\n",
       "    <tr>\n",
       "      <th>110</th>\n",
       "      <td>0.983925</td>\n",
       "      <td>1.0</td>\n",
       "      <td>1</td>\n",
       "    </tr>\n",
       "    <tr>\n",
       "      <th>111</th>\n",
       "      <td>0.049463</td>\n",
       "      <td>0.0</td>\n",
       "      <td>0</td>\n",
       "    </tr>\n",
       "    <tr>\n",
       "      <th>112</th>\n",
       "      <td>0.049463</td>\n",
       "      <td>0.0</td>\n",
       "      <td>0</td>\n",
       "    </tr>\n",
       "    <tr>\n",
       "      <th>113</th>\n",
       "      <td>0.011689</td>\n",
       "      <td>0.0</td>\n",
       "      <td>0</td>\n",
       "    </tr>\n",
       "  </tbody>\n",
       "</table>\n",
       "<p>114 rows × 3 columns</p>\n",
       "</div>"
      ],
      "text/plain": [
       "            0  Predicted  Label\n",
       "0    0.037244        0.0      0\n",
       "1    0.014608        0.0      0\n",
       "2    0.987058        1.0      1\n",
       "3    0.436265        0.0      1\n",
       "4    0.987199        1.0      1\n",
       "..        ...        ...    ...\n",
       "109  0.801476        1.0      1\n",
       "110  0.983925        1.0      1\n",
       "111  0.049463        0.0      0\n",
       "112  0.049463        0.0      0\n",
       "113  0.011689        0.0      0\n",
       "\n",
       "[114 rows x 3 columns]"
      ]
     },
     "execution_count": 59,
     "metadata": {},
     "output_type": "execute_result"
    }
   ],
   "source": [
    "output_df = pd.DataFrame(result)\n",
    "output_df['Predicted']=np.round(output_df.values)\n",
    "output_df['Label'] = test_df[\"0\"].values\n",
    "output_df"
   ]
  },
  {
   "cell_type": "code",
   "execution_count": 69,
   "id": "2821c4c0-a98a-4033-a2ae-baaba888ad59",
   "metadata": {
    "tags": []
   },
   "outputs": [
    {
     "data": {
      "text/html": [
       "<div>\n",
       "<style scoped>\n",
       "    .dataframe tbody tr th:only-of-type {\n",
       "        vertical-align: middle;\n",
       "    }\n",
       "\n",
       "    .dataframe tbody tr th {\n",
       "        vertical-align: top;\n",
       "    }\n",
       "\n",
       "    .dataframe thead th {\n",
       "        text-align: right;\n",
       "    }\n",
       "</style>\n",
       "<table border=\"1\" class=\"dataframe\">\n",
       "  <thead>\n",
       "    <tr style=\"text-align: right;\">\n",
       "      <th>Predicted</th>\n",
       "      <th>0</th>\n",
       "      <th>1</th>\n",
       "      <th>All</th>\n",
       "    </tr>\n",
       "    <tr>\n",
       "      <th>Actual</th>\n",
       "      <th></th>\n",
       "      <th></th>\n",
       "      <th></th>\n",
       "    </tr>\n",
       "  </thead>\n",
       "  <tbody>\n",
       "    <tr>\n",
       "      <th>0.0</th>\n",
       "      <td>38</td>\n",
       "      <td>2</td>\n",
       "      <td>40</td>\n",
       "    </tr>\n",
       "    <tr>\n",
       "      <th>1.0</th>\n",
       "      <td>4</td>\n",
       "      <td>70</td>\n",
       "      <td>74</td>\n",
       "    </tr>\n",
       "    <tr>\n",
       "      <th>All</th>\n",
       "      <td>42</td>\n",
       "      <td>72</td>\n",
       "      <td>114</td>\n",
       "    </tr>\n",
       "  </tbody>\n",
       "</table>\n",
       "</div>"
      ],
      "text/plain": [
       "Predicted   0   1  All\n",
       "Actual                \n",
       "0.0        38   2   40\n",
       "1.0         4  70   74\n",
       "All        42  72  114"
      ]
     },
     "execution_count": 69,
     "metadata": {},
     "output_type": "execute_result"
    }
   ],
   "source": [
    "from sklearn.metrics import confusion_matrix, accuracy_score\n",
    "confusion_matrix = pd.crosstab(output_df['Predicted'], output_df['Label'], rownames=['Actual'], colnames=['Predicted'], margins = True)\n",
    "confusion_matrix"
   ]
  },
  {
   "cell_type": "code",
   "execution_count": 70,
   "id": "8bfcacfc-9233-4015-af81-5e93d75e46a6",
   "metadata": {
    "tags": []
   },
   "outputs": [
    {
     "data": {
      "text/html": [
       "<div>\n",
       "<style scoped>\n",
       "    .dataframe tbody tr th:only-of-type {\n",
       "        vertical-align: middle;\n",
       "    }\n",
       "\n",
       "    .dataframe tbody tr th {\n",
       "        vertical-align: top;\n",
       "    }\n",
       "\n",
       "    .dataframe thead th {\n",
       "        text-align: right;\n",
       "    }\n",
       "</style>\n",
       "<table border=\"1\" class=\"dataframe\">\n",
       "  <thead>\n",
       "    <tr style=\"text-align: right;\">\n",
       "      <th></th>\n",
       "      <th>Prediction</th>\n",
       "      <th>Label</th>\n",
       "    </tr>\n",
       "  </thead>\n",
       "  <tbody>\n",
       "    <tr>\n",
       "      <th>0</th>\n",
       "      <td>0.037244</td>\n",
       "      <td>0</td>\n",
       "    </tr>\n",
       "    <tr>\n",
       "      <th>1</th>\n",
       "      <td>0.014608</td>\n",
       "      <td>0</td>\n",
       "    </tr>\n",
       "    <tr>\n",
       "      <th>2</th>\n",
       "      <td>0.987058</td>\n",
       "      <td>1</td>\n",
       "    </tr>\n",
       "    <tr>\n",
       "      <th>3</th>\n",
       "      <td>0.436265</td>\n",
       "      <td>1</td>\n",
       "    </tr>\n",
       "    <tr>\n",
       "      <th>4</th>\n",
       "      <td>0.987199</td>\n",
       "      <td>1</td>\n",
       "    </tr>\n",
       "  </tbody>\n",
       "</table>\n",
       "</div>"
      ],
      "text/plain": [
       "   Prediction  Label\n",
       "0    0.037244      0\n",
       "1    0.014608      0\n",
       "2    0.987058      1\n",
       "3    0.436265      1\n",
       "4    0.987199      1"
      ]
     },
     "execution_count": 70,
     "metadata": {},
     "output_type": "execute_result"
    }
   ],
   "source": [
    "prediction_df = pd.DataFrame()\n",
    "prediction_df[\"Prediction\"] = result[:5]\n",
    "prediction_df[\"Label\"] = test_df[\"0\"].iloc[:5].values\n",
    "prediction_df"
   ]
  },
  {
   "cell_type": "code",
   "execution_count": 62,
   "id": "b51256f8-b390-4a16-b67c-6371ef01ab37",
   "metadata": {
    "tags": []
   },
   "outputs": [
    {
     "data": {
      "text/plain": [
       "{'ResponseMetadata': {'RequestId': '1582985a-93cd-45fa-8358-f73cd253bafd',\n",
       "  'HTTPStatusCode': 200,\n",
       "  'HTTPHeaders': {'x-amzn-requestid': '1582985a-93cd-45fa-8358-f73cd253bafd',\n",
       "   'content-type': 'application/x-amz-json-1.1',\n",
       "   'content-length': '0',\n",
       "   'date': 'Wed, 22 Mar 2023 23:14:49 GMT'},\n",
       "  'RetryAttempts': 0}}"
      ]
     },
     "execution_count": 62,
     "metadata": {},
     "output_type": "execute_result"
    }
   ],
   "source": [
    "# Delete model\n",
    "sm_client.delete_model(ModelName=training_job_name)\n",
    "\n",
    "# Delete endpoint configuration\n",
    "sm_client.delete_endpoint_config(EndpointConfigName=endpoint_config_name)\n",
    "\n",
    "# Delete endpoint\n",
    "sm_client.delete_endpoint(EndpointName=endpoint_name)"
   ]
  },
  {
   "cell_type": "code",
   "execution_count": null,
   "id": "a4a79f20-d003-4dae-b565-81eecb49aaf9",
   "metadata": {},
   "outputs": [],
   "source": []
  }
 ],
 "metadata": {
  "availableInstances": [
   {
    "_defaultOrder": 0,
    "_isFastLaunch": true,
    "category": "General purpose",
    "gpuNum": 0,
    "memoryGiB": 4,
    "name": "ml.t3.medium",
    "vcpuNum": 2
   },
   {
    "_defaultOrder": 1,
    "_isFastLaunch": false,
    "category": "General purpose",
    "gpuNum": 0,
    "memoryGiB": 8,
    "name": "ml.t3.large",
    "vcpuNum": 2
   },
   {
    "_defaultOrder": 2,
    "_isFastLaunch": false,
    "category": "General purpose",
    "gpuNum": 0,
    "memoryGiB": 16,
    "name": "ml.t3.xlarge",
    "vcpuNum": 4
   },
   {
    "_defaultOrder": 3,
    "_isFastLaunch": false,
    "category": "General purpose",
    "gpuNum": 0,
    "memoryGiB": 32,
    "name": "ml.t3.2xlarge",
    "vcpuNum": 8
   },
   {
    "_defaultOrder": 4,
    "_isFastLaunch": true,
    "category": "General purpose",
    "gpuNum": 0,
    "memoryGiB": 8,
    "name": "ml.m5.large",
    "vcpuNum": 2
   },
   {
    "_defaultOrder": 5,
    "_isFastLaunch": false,
    "category": "General purpose",
    "gpuNum": 0,
    "memoryGiB": 16,
    "name": "ml.m5.xlarge",
    "vcpuNum": 4
   },
   {
    "_defaultOrder": 6,
    "_isFastLaunch": false,
    "category": "General purpose",
    "gpuNum": 0,
    "memoryGiB": 32,
    "name": "ml.m5.2xlarge",
    "vcpuNum": 8
   },
   {
    "_defaultOrder": 7,
    "_isFastLaunch": false,
    "category": "General purpose",
    "gpuNum": 0,
    "memoryGiB": 64,
    "name": "ml.m5.4xlarge",
    "vcpuNum": 16
   },
   {
    "_defaultOrder": 8,
    "_isFastLaunch": false,
    "category": "General purpose",
    "gpuNum": 0,
    "memoryGiB": 128,
    "name": "ml.m5.8xlarge",
    "vcpuNum": 32
   },
   {
    "_defaultOrder": 9,
    "_isFastLaunch": false,
    "category": "General purpose",
    "gpuNum": 0,
    "memoryGiB": 192,
    "name": "ml.m5.12xlarge",
    "vcpuNum": 48
   },
   {
    "_defaultOrder": 10,
    "_isFastLaunch": false,
    "category": "General purpose",
    "gpuNum": 0,
    "memoryGiB": 256,
    "name": "ml.m5.16xlarge",
    "vcpuNum": 64
   },
   {
    "_defaultOrder": 11,
    "_isFastLaunch": false,
    "category": "General purpose",
    "gpuNum": 0,
    "memoryGiB": 384,
    "name": "ml.m5.24xlarge",
    "vcpuNum": 96
   },
   {
    "_defaultOrder": 12,
    "_isFastLaunch": false,
    "category": "General purpose",
    "gpuNum": 0,
    "memoryGiB": 8,
    "name": "ml.m5d.large",
    "vcpuNum": 2
   },
   {
    "_defaultOrder": 13,
    "_isFastLaunch": false,
    "category": "General purpose",
    "gpuNum": 0,
    "memoryGiB": 16,
    "name": "ml.m5d.xlarge",
    "vcpuNum": 4
   },
   {
    "_defaultOrder": 14,
    "_isFastLaunch": false,
    "category": "General purpose",
    "gpuNum": 0,
    "memoryGiB": 32,
    "name": "ml.m5d.2xlarge",
    "vcpuNum": 8
   },
   {
    "_defaultOrder": 15,
    "_isFastLaunch": false,
    "category": "General purpose",
    "gpuNum": 0,
    "memoryGiB": 64,
    "name": "ml.m5d.4xlarge",
    "vcpuNum": 16
   },
   {
    "_defaultOrder": 16,
    "_isFastLaunch": false,
    "category": "General purpose",
    "gpuNum": 0,
    "memoryGiB": 128,
    "name": "ml.m5d.8xlarge",
    "vcpuNum": 32
   },
   {
    "_defaultOrder": 17,
    "_isFastLaunch": false,
    "category": "General purpose",
    "gpuNum": 0,
    "memoryGiB": 192,
    "name": "ml.m5d.12xlarge",
    "vcpuNum": 48
   },
   {
    "_defaultOrder": 18,
    "_isFastLaunch": false,
    "category": "General purpose",
    "gpuNum": 0,
    "memoryGiB": 256,
    "name": "ml.m5d.16xlarge",
    "vcpuNum": 64
   },
   {
    "_defaultOrder": 19,
    "_isFastLaunch": false,
    "category": "General purpose",
    "gpuNum": 0,
    "memoryGiB": 384,
    "name": "ml.m5d.24xlarge",
    "vcpuNum": 96
   },
   {
    "_defaultOrder": 20,
    "_isFastLaunch": true,
    "category": "Compute optimized",
    "gpuNum": 0,
    "memoryGiB": 4,
    "name": "ml.c5.large",
    "vcpuNum": 2
   },
   {
    "_defaultOrder": 21,
    "_isFastLaunch": false,
    "category": "Compute optimized",
    "gpuNum": 0,
    "memoryGiB": 8,
    "name": "ml.c5.xlarge",
    "vcpuNum": 4
   },
   {
    "_defaultOrder": 22,
    "_isFastLaunch": false,
    "category": "Compute optimized",
    "gpuNum": 0,
    "memoryGiB": 16,
    "name": "ml.c5.2xlarge",
    "vcpuNum": 8
   },
   {
    "_defaultOrder": 23,
    "_isFastLaunch": false,
    "category": "Compute optimized",
    "gpuNum": 0,
    "memoryGiB": 32,
    "name": "ml.c5.4xlarge",
    "vcpuNum": 16
   },
   {
    "_defaultOrder": 24,
    "_isFastLaunch": false,
    "category": "Compute optimized",
    "gpuNum": 0,
    "memoryGiB": 72,
    "name": "ml.c5.9xlarge",
    "vcpuNum": 36
   },
   {
    "_defaultOrder": 25,
    "_isFastLaunch": false,
    "category": "Compute optimized",
    "gpuNum": 0,
    "memoryGiB": 96,
    "name": "ml.c5.12xlarge",
    "vcpuNum": 48
   },
   {
    "_defaultOrder": 26,
    "_isFastLaunch": false,
    "category": "Compute optimized",
    "gpuNum": 0,
    "memoryGiB": 144,
    "name": "ml.c5.18xlarge",
    "vcpuNum": 72
   },
   {
    "_defaultOrder": 27,
    "_isFastLaunch": false,
    "category": "Compute optimized",
    "gpuNum": 0,
    "memoryGiB": 192,
    "name": "ml.c5.24xlarge",
    "vcpuNum": 96
   },
   {
    "_defaultOrder": 28,
    "_isFastLaunch": true,
    "category": "Accelerated computing",
    "gpuNum": 1,
    "memoryGiB": 16,
    "name": "ml.g4dn.xlarge",
    "vcpuNum": 4
   },
   {
    "_defaultOrder": 29,
    "_isFastLaunch": false,
    "category": "Accelerated computing",
    "gpuNum": 1,
    "memoryGiB": 32,
    "name": "ml.g4dn.2xlarge",
    "vcpuNum": 8
   },
   {
    "_defaultOrder": 30,
    "_isFastLaunch": false,
    "category": "Accelerated computing",
    "gpuNum": 1,
    "memoryGiB": 64,
    "name": "ml.g4dn.4xlarge",
    "vcpuNum": 16
   },
   {
    "_defaultOrder": 31,
    "_isFastLaunch": false,
    "category": "Accelerated computing",
    "gpuNum": 1,
    "memoryGiB": 128,
    "name": "ml.g4dn.8xlarge",
    "vcpuNum": 32
   },
   {
    "_defaultOrder": 32,
    "_isFastLaunch": false,
    "category": "Accelerated computing",
    "gpuNum": 4,
    "memoryGiB": 192,
    "name": "ml.g4dn.12xlarge",
    "vcpuNum": 48
   },
   {
    "_defaultOrder": 33,
    "_isFastLaunch": false,
    "category": "Accelerated computing",
    "gpuNum": 1,
    "memoryGiB": 256,
    "name": "ml.g4dn.16xlarge",
    "vcpuNum": 64
   },
   {
    "_defaultOrder": 34,
    "_isFastLaunch": false,
    "category": "Accelerated computing",
    "gpuNum": 1,
    "memoryGiB": 61,
    "name": "ml.p3.2xlarge",
    "vcpuNum": 8
   },
   {
    "_defaultOrder": 35,
    "_isFastLaunch": false,
    "category": "Accelerated computing",
    "gpuNum": 4,
    "memoryGiB": 244,
    "name": "ml.p3.8xlarge",
    "vcpuNum": 32
   },
   {
    "_defaultOrder": 36,
    "_isFastLaunch": false,
    "category": "Accelerated computing",
    "gpuNum": 8,
    "memoryGiB": 488,
    "name": "ml.p3.16xlarge",
    "vcpuNum": 64
   },
   {
    "_defaultOrder": 37,
    "_isFastLaunch": false,
    "category": "Accelerated computing",
    "gpuNum": 8,
    "memoryGiB": 768,
    "name": "ml.p3dn.24xlarge",
    "vcpuNum": 96
   },
   {
    "_defaultOrder": 38,
    "_isFastLaunch": false,
    "category": "Memory Optimized",
    "gpuNum": 0,
    "memoryGiB": 16,
    "name": "ml.r5.large",
    "vcpuNum": 2
   },
   {
    "_defaultOrder": 39,
    "_isFastLaunch": false,
    "category": "Memory Optimized",
    "gpuNum": 0,
    "memoryGiB": 32,
    "name": "ml.r5.xlarge",
    "vcpuNum": 4
   },
   {
    "_defaultOrder": 40,
    "_isFastLaunch": false,
    "category": "Memory Optimized",
    "gpuNum": 0,
    "memoryGiB": 64,
    "name": "ml.r5.2xlarge",
    "vcpuNum": 8
   },
   {
    "_defaultOrder": 41,
    "_isFastLaunch": false,
    "category": "Memory Optimized",
    "gpuNum": 0,
    "memoryGiB": 128,
    "name": "ml.r5.4xlarge",
    "vcpuNum": 16
   },
   {
    "_defaultOrder": 42,
    "_isFastLaunch": false,
    "category": "Memory Optimized",
    "gpuNum": 0,
    "memoryGiB": 256,
    "name": "ml.r5.8xlarge",
    "vcpuNum": 32
   },
   {
    "_defaultOrder": 43,
    "_isFastLaunch": false,
    "category": "Memory Optimized",
    "gpuNum": 0,
    "memoryGiB": 384,
    "name": "ml.r5.12xlarge",
    "vcpuNum": 48
   },
   {
    "_defaultOrder": 44,
    "_isFastLaunch": false,
    "category": "Memory Optimized",
    "gpuNum": 0,
    "memoryGiB": 512,
    "name": "ml.r5.16xlarge",
    "vcpuNum": 64
   },
   {
    "_defaultOrder": 45,
    "_isFastLaunch": false,
    "category": "Memory Optimized",
    "gpuNum": 0,
    "memoryGiB": 768,
    "name": "ml.r5.24xlarge",
    "vcpuNum": 96
   },
   {
    "_defaultOrder": 46,
    "_isFastLaunch": false,
    "category": "Accelerated computing",
    "gpuNum": 1,
    "memoryGiB": 16,
    "name": "ml.g5.xlarge",
    "vcpuNum": 4
   },
   {
    "_defaultOrder": 47,
    "_isFastLaunch": false,
    "category": "Accelerated computing",
    "gpuNum": 1,
    "memoryGiB": 32,
    "name": "ml.g5.2xlarge",
    "vcpuNum": 8
   },
   {
    "_defaultOrder": 48,
    "_isFastLaunch": false,
    "category": "Accelerated computing",
    "gpuNum": 1,
    "memoryGiB": 64,
    "name": "ml.g5.4xlarge",
    "vcpuNum": 16
   },
   {
    "_defaultOrder": 49,
    "_isFastLaunch": false,
    "category": "Accelerated computing",
    "gpuNum": 1,
    "memoryGiB": 128,
    "name": "ml.g5.8xlarge",
    "vcpuNum": 32
   },
   {
    "_defaultOrder": 50,
    "_isFastLaunch": false,
    "category": "Accelerated computing",
    "gpuNum": 1,
    "memoryGiB": 256,
    "name": "ml.g5.16xlarge",
    "vcpuNum": 64
   },
   {
    "_defaultOrder": 51,
    "_isFastLaunch": false,
    "category": "Accelerated computing",
    "gpuNum": 4,
    "memoryGiB": 192,
    "name": "ml.g5.12xlarge",
    "vcpuNum": 48
   },
   {
    "_defaultOrder": 52,
    "_isFastLaunch": false,
    "category": "Accelerated computing",
    "gpuNum": 4,
    "memoryGiB": 384,
    "name": "ml.g5.24xlarge",
    "vcpuNum": 96
   },
   {
    "_defaultOrder": 53,
    "_isFastLaunch": false,
    "category": "Accelerated computing",
    "gpuNum": 8,
    "memoryGiB": 768,
    "name": "ml.g5.48xlarge",
    "vcpuNum": 192
   }
  ],
  "instance_type": "ml.t3.medium",
  "kernelspec": {
   "display_name": "Python 3 (Data Science)",
   "language": "python",
   "name": "python3__SAGEMAKER_INTERNAL__arn:aws:sagemaker:us-east-1:081325390199:image/datascience-1.0"
  },
  "language_info": {
   "codemirror_mode": {
    "name": "ipython",
    "version": 3
   },
   "file_extension": ".py",
   "mimetype": "text/x-python",
   "name": "python",
   "nbconvert_exporter": "python",
   "pygments_lexer": "ipython3",
   "version": "3.7.10"
  }
 },
 "nbformat": 4,
 "nbformat_minor": 5
}
